{
 "cells": [
  {
   "cell_type": "markdown",
   "id": "217b7972",
   "metadata": {
    "papermill": {
     "duration": 0.007093,
     "end_time": "2023-06-13T08:24:21.342806",
     "exception": false,
     "start_time": "2023-06-13T08:24:21.335713",
     "status": "completed"
    },
    "tags": []
   },
   "source": [
    "# The Sparks Foundation- Data Science & Business Analytics Internship\n",
    "\n",
    "> **TASK 3:  Perform ‘Exploratory Data Analysis’ on dataset ‘SampleSuperstore’**\n",
    "\n",
    "***In this task we will try to find out the weak areas where we can work to make more profit.***\n",
    "\n",
    "\n",
    "**Steps to be followed:**\n",
    "\n",
    "* Importing the libraries\n",
    "* Reading the dataset\n",
    "* Data Preprocessing\n",
    "* EDA\n",
    "* Data Visualization"
   ]
  },
  {
   "cell_type": "markdown",
   "id": "b0092707",
   "metadata": {
    "papermill": {
     "duration": 0.005634,
     "end_time": "2023-06-13T08:24:21.354657",
     "exception": false,
     "start_time": "2023-06-13T08:24:21.349023",
     "status": "completed"
    },
    "tags": []
   },
   "source": [
    "# 1. Importing liberaries"
   ]
  },
  {
   "cell_type": "code",
   "execution_count": 1,
   "id": "28342c41",
   "metadata": {
    "_cell_guid": "b1076dfc-b9ad-4769-8c92-a6c4dae69d19",
    "_uuid": "8f2839f25d086af736a60e9eeb907d3b93b6e0e5",
    "execution": {
     "iopub.execute_input": "2023-06-13T08:24:21.368618Z",
     "iopub.status.busy": "2023-06-13T08:24:21.368002Z",
     "iopub.status.idle": "2023-06-13T08:24:21.381183Z",
     "shell.execute_reply": "2023-06-13T08:24:21.380100Z"
    },
    "papermill": {
     "duration": 0.023234,
     "end_time": "2023-06-13T08:24:21.383887",
     "exception": false,
     "start_time": "2023-06-13T08:24:21.360653",
     "status": "completed"
    },
    "tags": []
   },
   "outputs": [],
   "source": [
    "# In this step we will import the required libarries \n",
    "import pandas as pd\n",
    "import numpy as np  \n",
    "import matplotlib.pyplot as plt  \n",
    "%matplotlib inline\n",
    "\n",
    "# To ignore the warnings \n",
    "import warnings as wg\n",
    "wg.filterwarnings(\"ignore\")"
   ]
  },
  {
   "cell_type": "markdown",
   "id": "29d03bfd",
   "metadata": {
    "papermill": {
     "duration": 0.005678,
     "end_time": "2023-06-13T08:24:21.395660",
     "exception": false,
     "start_time": "2023-06-13T08:24:21.389982",
     "status": "completed"
    },
    "tags": []
   },
   "source": [
    "# 2.Reading the dataset"
   ]
  },
  {
   "cell_type": "code",
   "execution_count": 2,
   "id": "7518f075",
   "metadata": {
    "execution": {
     "iopub.execute_input": "2023-06-13T08:24:21.409773Z",
     "iopub.status.busy": "2023-06-13T08:24:21.409169Z",
     "iopub.status.idle": "2023-06-13T08:24:21.502715Z",
     "shell.execute_reply": "2023-06-13T08:24:21.501572Z"
    },
    "papermill": {
     "duration": 0.103443,
     "end_time": "2023-06-13T08:24:21.505173",
     "exception": false,
     "start_time": "2023-06-13T08:24:21.401730",
     "status": "completed"
    },
    "tags": []
   },
   "outputs": [
    {
     "data": {
      "text/html": [
       "<div>\n",
       "<style scoped>\n",
       "    .dataframe tbody tr th:only-of-type {\n",
       "        vertical-align: middle;\n",
       "    }\n",
       "\n",
       "    .dataframe tbody tr th {\n",
       "        vertical-align: top;\n",
       "    }\n",
       "\n",
       "    .dataframe thead th {\n",
       "        text-align: right;\n",
       "    }\n",
       "</style>\n",
       "<table border=\"1\" class=\"dataframe\">\n",
       "  <thead>\n",
       "    <tr style=\"text-align: right;\">\n",
       "      <th></th>\n",
       "      <th>Ship Mode</th>\n",
       "      <th>Segment</th>\n",
       "      <th>Country</th>\n",
       "      <th>City</th>\n",
       "      <th>State</th>\n",
       "      <th>Postal Code</th>\n",
       "      <th>Region</th>\n",
       "      <th>Category</th>\n",
       "      <th>Sub-Category</th>\n",
       "      <th>Sales</th>\n",
       "      <th>Quantity</th>\n",
       "      <th>Discount</th>\n",
       "      <th>Profit</th>\n",
       "    </tr>\n",
       "  </thead>\n",
       "  <tbody>\n",
       "    <tr>\n",
       "      <th>0</th>\n",
       "      <td>Second Class</td>\n",
       "      <td>Consumer</td>\n",
       "      <td>United States</td>\n",
       "      <td>Henderson</td>\n",
       "      <td>Kentucky</td>\n",
       "      <td>42420</td>\n",
       "      <td>South</td>\n",
       "      <td>Furniture</td>\n",
       "      <td>Bookcases</td>\n",
       "      <td>261.9600</td>\n",
       "      <td>2</td>\n",
       "      <td>0.00</td>\n",
       "      <td>41.9136</td>\n",
       "    </tr>\n",
       "    <tr>\n",
       "      <th>1</th>\n",
       "      <td>Second Class</td>\n",
       "      <td>Consumer</td>\n",
       "      <td>United States</td>\n",
       "      <td>Henderson</td>\n",
       "      <td>Kentucky</td>\n",
       "      <td>42420</td>\n",
       "      <td>South</td>\n",
       "      <td>Furniture</td>\n",
       "      <td>Chairs</td>\n",
       "      <td>731.9400</td>\n",
       "      <td>3</td>\n",
       "      <td>0.00</td>\n",
       "      <td>219.5820</td>\n",
       "    </tr>\n",
       "    <tr>\n",
       "      <th>2</th>\n",
       "      <td>Second Class</td>\n",
       "      <td>Corporate</td>\n",
       "      <td>United States</td>\n",
       "      <td>Los Angeles</td>\n",
       "      <td>California</td>\n",
       "      <td>90036</td>\n",
       "      <td>West</td>\n",
       "      <td>Office Supplies</td>\n",
       "      <td>Labels</td>\n",
       "      <td>14.6200</td>\n",
       "      <td>2</td>\n",
       "      <td>0.00</td>\n",
       "      <td>6.8714</td>\n",
       "    </tr>\n",
       "    <tr>\n",
       "      <th>3</th>\n",
       "      <td>Standard Class</td>\n",
       "      <td>Consumer</td>\n",
       "      <td>United States</td>\n",
       "      <td>Fort Lauderdale</td>\n",
       "      <td>Florida</td>\n",
       "      <td>33311</td>\n",
       "      <td>South</td>\n",
       "      <td>Furniture</td>\n",
       "      <td>Tables</td>\n",
       "      <td>957.5775</td>\n",
       "      <td>5</td>\n",
       "      <td>0.45</td>\n",
       "      <td>-383.0310</td>\n",
       "    </tr>\n",
       "    <tr>\n",
       "      <th>4</th>\n",
       "      <td>Standard Class</td>\n",
       "      <td>Consumer</td>\n",
       "      <td>United States</td>\n",
       "      <td>Fort Lauderdale</td>\n",
       "      <td>Florida</td>\n",
       "      <td>33311</td>\n",
       "      <td>South</td>\n",
       "      <td>Office Supplies</td>\n",
       "      <td>Storage</td>\n",
       "      <td>22.3680</td>\n",
       "      <td>2</td>\n",
       "      <td>0.20</td>\n",
       "      <td>2.5164</td>\n",
       "    </tr>\n",
       "  </tbody>\n",
       "</table>\n",
       "</div>"
      ],
      "text/plain": [
       "        Ship Mode    Segment        Country             City       State  \\\n",
       "0    Second Class   Consumer  United States        Henderson    Kentucky   \n",
       "1    Second Class   Consumer  United States        Henderson    Kentucky   \n",
       "2    Second Class  Corporate  United States      Los Angeles  California   \n",
       "3  Standard Class   Consumer  United States  Fort Lauderdale     Florida   \n",
       "4  Standard Class   Consumer  United States  Fort Lauderdale     Florida   \n",
       "\n",
       "   Postal Code Region         Category Sub-Category     Sales  Quantity  \\\n",
       "0        42420  South        Furniture    Bookcases  261.9600         2   \n",
       "1        42420  South        Furniture       Chairs  731.9400         3   \n",
       "2        90036   West  Office Supplies       Labels   14.6200         2   \n",
       "3        33311  South        Furniture       Tables  957.5775         5   \n",
       "4        33311  South  Office Supplies      Storage   22.3680         2   \n",
       "\n",
       "   Discount    Profit  \n",
       "0      0.00   41.9136  \n",
       "1      0.00  219.5820  \n",
       "2      0.00    6.8714  \n",
       "3      0.45 -383.0310  \n",
       "4      0.20    2.5164  "
      ]
     },
     "execution_count": 2,
     "metadata": {},
     "output_type": "execute_result"
    }
   ],
   "source": [
    "df= pd.read_csv(\"/kaggle/input/samplestore/SampleSuperstore.csv\") #loading Dataset\n",
    "df.head() #Display first 5 rows"
   ]
  },
  {
   "cell_type": "code",
   "execution_count": 3,
   "id": "a3d3bd63",
   "metadata": {
    "execution": {
     "iopub.execute_input": "2023-06-13T08:24:21.519925Z",
     "iopub.status.busy": "2023-06-13T08:24:21.519524Z",
     "iopub.status.idle": "2023-06-13T08:24:21.541236Z",
     "shell.execute_reply": "2023-06-13T08:24:21.540038Z"
    },
    "papermill": {
     "duration": 0.031856,
     "end_time": "2023-06-13T08:24:21.543632",
     "exception": false,
     "start_time": "2023-06-13T08:24:21.511776",
     "status": "completed"
    },
    "tags": []
   },
   "outputs": [
    {
     "data": {
      "text/html": [
       "<div>\n",
       "<style scoped>\n",
       "    .dataframe tbody tr th:only-of-type {\n",
       "        vertical-align: middle;\n",
       "    }\n",
       "\n",
       "    .dataframe tbody tr th {\n",
       "        vertical-align: top;\n",
       "    }\n",
       "\n",
       "    .dataframe thead th {\n",
       "        text-align: right;\n",
       "    }\n",
       "</style>\n",
       "<table border=\"1\" class=\"dataframe\">\n",
       "  <thead>\n",
       "    <tr style=\"text-align: right;\">\n",
       "      <th></th>\n",
       "      <th>Ship Mode</th>\n",
       "      <th>Segment</th>\n",
       "      <th>Country</th>\n",
       "      <th>City</th>\n",
       "      <th>State</th>\n",
       "      <th>Postal Code</th>\n",
       "      <th>Region</th>\n",
       "      <th>Category</th>\n",
       "      <th>Sub-Category</th>\n",
       "      <th>Sales</th>\n",
       "      <th>Quantity</th>\n",
       "      <th>Discount</th>\n",
       "      <th>Profit</th>\n",
       "    </tr>\n",
       "  </thead>\n",
       "  <tbody>\n",
       "    <tr>\n",
       "      <th>9989</th>\n",
       "      <td>Second Class</td>\n",
       "      <td>Consumer</td>\n",
       "      <td>United States</td>\n",
       "      <td>Miami</td>\n",
       "      <td>Florida</td>\n",
       "      <td>33180</td>\n",
       "      <td>South</td>\n",
       "      <td>Furniture</td>\n",
       "      <td>Furnishings</td>\n",
       "      <td>25.248</td>\n",
       "      <td>3</td>\n",
       "      <td>0.2</td>\n",
       "      <td>4.1028</td>\n",
       "    </tr>\n",
       "    <tr>\n",
       "      <th>9990</th>\n",
       "      <td>Standard Class</td>\n",
       "      <td>Consumer</td>\n",
       "      <td>United States</td>\n",
       "      <td>Costa Mesa</td>\n",
       "      <td>California</td>\n",
       "      <td>92627</td>\n",
       "      <td>West</td>\n",
       "      <td>Furniture</td>\n",
       "      <td>Furnishings</td>\n",
       "      <td>91.960</td>\n",
       "      <td>2</td>\n",
       "      <td>0.0</td>\n",
       "      <td>15.6332</td>\n",
       "    </tr>\n",
       "    <tr>\n",
       "      <th>9991</th>\n",
       "      <td>Standard Class</td>\n",
       "      <td>Consumer</td>\n",
       "      <td>United States</td>\n",
       "      <td>Costa Mesa</td>\n",
       "      <td>California</td>\n",
       "      <td>92627</td>\n",
       "      <td>West</td>\n",
       "      <td>Technology</td>\n",
       "      <td>Phones</td>\n",
       "      <td>258.576</td>\n",
       "      <td>2</td>\n",
       "      <td>0.2</td>\n",
       "      <td>19.3932</td>\n",
       "    </tr>\n",
       "    <tr>\n",
       "      <th>9992</th>\n",
       "      <td>Standard Class</td>\n",
       "      <td>Consumer</td>\n",
       "      <td>United States</td>\n",
       "      <td>Costa Mesa</td>\n",
       "      <td>California</td>\n",
       "      <td>92627</td>\n",
       "      <td>West</td>\n",
       "      <td>Office Supplies</td>\n",
       "      <td>Paper</td>\n",
       "      <td>29.600</td>\n",
       "      <td>4</td>\n",
       "      <td>0.0</td>\n",
       "      <td>13.3200</td>\n",
       "    </tr>\n",
       "    <tr>\n",
       "      <th>9993</th>\n",
       "      <td>Second Class</td>\n",
       "      <td>Consumer</td>\n",
       "      <td>United States</td>\n",
       "      <td>Westminster</td>\n",
       "      <td>California</td>\n",
       "      <td>92683</td>\n",
       "      <td>West</td>\n",
       "      <td>Office Supplies</td>\n",
       "      <td>Appliances</td>\n",
       "      <td>243.160</td>\n",
       "      <td>2</td>\n",
       "      <td>0.0</td>\n",
       "      <td>72.9480</td>\n",
       "    </tr>\n",
       "  </tbody>\n",
       "</table>\n",
       "</div>"
      ],
      "text/plain": [
       "           Ship Mode   Segment        Country         City       State  \\\n",
       "9989    Second Class  Consumer  United States        Miami     Florida   \n",
       "9990  Standard Class  Consumer  United States   Costa Mesa  California   \n",
       "9991  Standard Class  Consumer  United States   Costa Mesa  California   \n",
       "9992  Standard Class  Consumer  United States   Costa Mesa  California   \n",
       "9993    Second Class  Consumer  United States  Westminster  California   \n",
       "\n",
       "      Postal Code Region         Category Sub-Category    Sales  Quantity  \\\n",
       "9989        33180  South        Furniture  Furnishings   25.248         3   \n",
       "9990        92627   West        Furniture  Furnishings   91.960         2   \n",
       "9991        92627   West       Technology       Phones  258.576         2   \n",
       "9992        92627   West  Office Supplies        Paper   29.600         4   \n",
       "9993        92683   West  Office Supplies   Appliances  243.160         2   \n",
       "\n",
       "      Discount   Profit  \n",
       "9989       0.2   4.1028  \n",
       "9990       0.0  15.6332  \n",
       "9991       0.2  19.3932  \n",
       "9992       0.0  13.3200  \n",
       "9993       0.0  72.9480  "
      ]
     },
     "execution_count": 3,
     "metadata": {},
     "output_type": "execute_result"
    }
   ],
   "source": [
    "df.tail() #bottom 5 rows"
   ]
  },
  {
   "cell_type": "markdown",
   "id": "296c0975",
   "metadata": {
    "papermill": {
     "duration": 0.006531,
     "end_time": "2023-06-13T08:24:21.558600",
     "exception": false,
     "start_time": "2023-06-13T08:24:21.552069",
     "status": "completed"
    },
    "tags": []
   },
   "source": [
    "# 3.Data Processing"
   ]
  },
  {
   "cell_type": "code",
   "execution_count": 4,
   "id": "09c01016",
   "metadata": {
    "execution": {
     "iopub.execute_input": "2023-06-13T08:24:21.574491Z",
     "iopub.status.busy": "2023-06-13T08:24:21.573776Z",
     "iopub.status.idle": "2023-06-13T08:24:21.580937Z",
     "shell.execute_reply": "2023-06-13T08:24:21.579901Z"
    },
    "papermill": {
     "duration": 0.018249,
     "end_time": "2023-06-13T08:24:21.583696",
     "exception": false,
     "start_time": "2023-06-13T08:24:21.565447",
     "status": "completed"
    },
    "tags": []
   },
   "outputs": [
    {
     "data": {
      "text/plain": [
       "(9994, 13)"
      ]
     },
     "execution_count": 4,
     "metadata": {},
     "output_type": "execute_result"
    }
   ],
   "source": [
    "df.shape"
   ]
  },
  {
   "cell_type": "code",
   "execution_count": 5,
   "id": "5b18caa1",
   "metadata": {
    "execution": {
     "iopub.execute_input": "2023-06-13T08:24:21.600490Z",
     "iopub.status.busy": "2023-06-13T08:24:21.599692Z",
     "iopub.status.idle": "2023-06-13T08:24:21.607224Z",
     "shell.execute_reply": "2023-06-13T08:24:21.606093Z"
    },
    "papermill": {
     "duration": 0.01875,
     "end_time": "2023-06-13T08:24:21.609623",
     "exception": false,
     "start_time": "2023-06-13T08:24:21.590873",
     "status": "completed"
    },
    "tags": []
   },
   "outputs": [
    {
     "data": {
      "text/plain": [
       "Index(['Ship Mode', 'Segment', 'Country', 'City', 'State', 'Postal Code',\n",
       "       'Region', 'Category', 'Sub-Category', 'Sales', 'Quantity', 'Discount',\n",
       "       'Profit'],\n",
       "      dtype='object')"
      ]
     },
     "execution_count": 5,
     "metadata": {},
     "output_type": "execute_result"
    }
   ],
   "source": [
    "df.columns"
   ]
  },
  {
   "cell_type": "code",
   "execution_count": 6,
   "id": "9c7f625c",
   "metadata": {
    "execution": {
     "iopub.execute_input": "2023-06-13T08:24:21.625823Z",
     "iopub.status.busy": "2023-06-13T08:24:21.625440Z",
     "iopub.status.idle": "2023-06-13T08:24:21.662232Z",
     "shell.execute_reply": "2023-06-13T08:24:21.660902Z"
    },
    "papermill": {
     "duration": 0.048204,
     "end_time": "2023-06-13T08:24:21.664874",
     "exception": false,
     "start_time": "2023-06-13T08:24:21.616670",
     "status": "completed"
    },
    "tags": []
   },
   "outputs": [
    {
     "data": {
      "text/plain": [
       "Ship Mode       0\n",
       "Segment         0\n",
       "Country         0\n",
       "City            0\n",
       "State           0\n",
       "Postal Code     0\n",
       "Region          0\n",
       "Category        0\n",
       "Sub-Category    0\n",
       "Sales           0\n",
       "Quantity        0\n",
       "Discount        0\n",
       "Profit          0\n",
       "dtype: int64"
      ]
     },
     "execution_count": 6,
     "metadata": {},
     "output_type": "execute_result"
    }
   ],
   "source": [
    "df.isnull().sum() #to check null Values"
   ]
  },
  {
   "cell_type": "code",
   "execution_count": 7,
   "id": "142af785",
   "metadata": {
    "execution": {
     "iopub.execute_input": "2023-06-13T08:24:21.681530Z",
     "iopub.status.busy": "2023-06-13T08:24:21.681056Z",
     "iopub.status.idle": "2023-06-13T08:24:21.732282Z",
     "shell.execute_reply": "2023-06-13T08:24:21.730964Z"
    },
    "papermill": {
     "duration": 0.062842,
     "end_time": "2023-06-13T08:24:21.735207",
     "exception": false,
     "start_time": "2023-06-13T08:24:21.672365",
     "status": "completed"
    },
    "tags": []
   },
   "outputs": [
    {
     "name": "stdout",
     "output_type": "stream",
     "text": [
      "<class 'pandas.core.frame.DataFrame'>\n",
      "RangeIndex: 9994 entries, 0 to 9993\n",
      "Data columns (total 13 columns):\n",
      " #   Column        Non-Null Count  Dtype  \n",
      "---  ------        --------------  -----  \n",
      " 0   Ship Mode     9994 non-null   object \n",
      " 1   Segment       9994 non-null   object \n",
      " 2   Country       9994 non-null   object \n",
      " 3   City          9994 non-null   object \n",
      " 4   State         9994 non-null   object \n",
      " 5   Postal Code   9994 non-null   int64  \n",
      " 6   Region        9994 non-null   object \n",
      " 7   Category      9994 non-null   object \n",
      " 8   Sub-Category  9994 non-null   object \n",
      " 9   Sales         9994 non-null   float64\n",
      " 10  Quantity      9994 non-null   int64  \n",
      " 11  Discount      9994 non-null   float64\n",
      " 12  Profit        9994 non-null   float64\n",
      "dtypes: float64(3), int64(2), object(8)\n",
      "memory usage: 1015.1+ KB\n"
     ]
    }
   ],
   "source": [
    "df.info() #information about given dataset"
   ]
  },
  {
   "cell_type": "code",
   "execution_count": 8,
   "id": "5b304bce",
   "metadata": {
    "execution": {
     "iopub.execute_input": "2023-06-13T08:24:21.752315Z",
     "iopub.status.busy": "2023-06-13T08:24:21.751883Z",
     "iopub.status.idle": "2023-06-13T08:24:21.774442Z",
     "shell.execute_reply": "2023-06-13T08:24:21.773255Z"
    },
    "papermill": {
     "duration": 0.034249,
     "end_time": "2023-06-13T08:24:21.776890",
     "exception": false,
     "start_time": "2023-06-13T08:24:21.742641",
     "status": "completed"
    },
    "tags": []
   },
   "outputs": [
    {
     "data": {
      "text/plain": [
       "17"
      ]
     },
     "execution_count": 8,
     "metadata": {},
     "output_type": "execute_result"
    }
   ],
   "source": [
    "df.duplicated().sum() #checking for the duplicates"
   ]
  },
  {
   "cell_type": "code",
   "execution_count": 9,
   "id": "2f2c982b",
   "metadata": {
    "execution": {
     "iopub.execute_input": "2023-06-13T08:24:21.794228Z",
     "iopub.status.busy": "2023-06-13T08:24:21.792991Z",
     "iopub.status.idle": "2023-06-13T08:24:21.829318Z",
     "shell.execute_reply": "2023-06-13T08:24:21.827920Z"
    },
    "papermill": {
     "duration": 0.04755,
     "end_time": "2023-06-13T08:24:21.831968",
     "exception": false,
     "start_time": "2023-06-13T08:24:21.784418",
     "status": "completed"
    },
    "tags": []
   },
   "outputs": [
    {
     "data": {
      "text/plain": [
       "0"
      ]
     },
     "execution_count": 9,
     "metadata": {},
     "output_type": "execute_result"
    }
   ],
   "source": [
    "#Dropping the duplicates\n",
    "df.drop_duplicates(subset=None,keep='first',inplace=True)\n",
    "df.duplicated().sum()"
   ]
  },
  {
   "cell_type": "code",
   "execution_count": 10,
   "id": "4ae70750",
   "metadata": {
    "execution": {
     "iopub.execute_input": "2023-06-13T08:24:21.849392Z",
     "iopub.status.busy": "2023-06-13T08:24:21.848979Z",
     "iopub.status.idle": "2023-06-13T08:24:21.869270Z",
     "shell.execute_reply": "2023-06-13T08:24:21.868241Z"
    },
    "papermill": {
     "duration": 0.032262,
     "end_time": "2023-06-13T08:24:21.872336",
     "exception": false,
     "start_time": "2023-06-13T08:24:21.840074",
     "status": "completed"
    },
    "tags": []
   },
   "outputs": [
    {
     "data": {
      "text/plain": [
       "Ship Mode          4\n",
       "Segment            3\n",
       "Country            1\n",
       "City             531\n",
       "State             49\n",
       "Postal Code      631\n",
       "Region             4\n",
       "Category           3\n",
       "Sub-Category      17\n",
       "Sales           5825\n",
       "Quantity          14\n",
       "Discount          12\n",
       "Profit          7287\n",
       "dtype: int64"
      ]
     },
     "execution_count": 10,
     "metadata": {},
     "output_type": "execute_result"
    }
   ],
   "source": [
    "df.nunique()"
   ]
  },
  {
   "cell_type": "code",
   "execution_count": 11,
   "id": "508796af",
   "metadata": {
    "execution": {
     "iopub.execute_input": "2023-06-13T08:24:21.891026Z",
     "iopub.status.busy": "2023-06-13T08:24:21.890462Z",
     "iopub.status.idle": "2023-06-13T08:24:21.912338Z",
     "shell.execute_reply": "2023-06-13T08:24:21.911160Z"
    },
    "papermill": {
     "duration": 0.033873,
     "end_time": "2023-06-13T08:24:21.914697",
     "exception": false,
     "start_time": "2023-06-13T08:24:21.880824",
     "status": "completed"
    },
    "tags": []
   },
   "outputs": [
    {
     "data": {
      "text/html": [
       "<div>\n",
       "<style scoped>\n",
       "    .dataframe tbody tr th:only-of-type {\n",
       "        vertical-align: middle;\n",
       "    }\n",
       "\n",
       "    .dataframe tbody tr th {\n",
       "        vertical-align: top;\n",
       "    }\n",
       "\n",
       "    .dataframe thead th {\n",
       "        text-align: right;\n",
       "    }\n",
       "</style>\n",
       "<table border=\"1\" class=\"dataframe\">\n",
       "  <thead>\n",
       "    <tr style=\"text-align: right;\">\n",
       "      <th></th>\n",
       "      <th>Ship Mode</th>\n",
       "      <th>Segment</th>\n",
       "      <th>Country</th>\n",
       "      <th>City</th>\n",
       "      <th>State</th>\n",
       "      <th>Postal Code</th>\n",
       "      <th>Region</th>\n",
       "      <th>Category</th>\n",
       "      <th>Sub-Category</th>\n",
       "      <th>Sales</th>\n",
       "      <th>Quantity</th>\n",
       "      <th>Discount</th>\n",
       "      <th>Profit</th>\n",
       "    </tr>\n",
       "  </thead>\n",
       "  <tbody>\n",
       "    <tr>\n",
       "      <th>0</th>\n",
       "      <td>Second Class</td>\n",
       "      <td>Consumer</td>\n",
       "      <td>United States</td>\n",
       "      <td>Henderson</td>\n",
       "      <td>Kentucky</td>\n",
       "      <td>42420</td>\n",
       "      <td>South</td>\n",
       "      <td>Furniture</td>\n",
       "      <td>Bookcases</td>\n",
       "      <td>261.9600</td>\n",
       "      <td>2</td>\n",
       "      <td>0.00</td>\n",
       "      <td>41.9136</td>\n",
       "    </tr>\n",
       "    <tr>\n",
       "      <th>1</th>\n",
       "      <td>Second Class</td>\n",
       "      <td>Consumer</td>\n",
       "      <td>United States</td>\n",
       "      <td>Henderson</td>\n",
       "      <td>Kentucky</td>\n",
       "      <td>42420</td>\n",
       "      <td>South</td>\n",
       "      <td>Furniture</td>\n",
       "      <td>Chairs</td>\n",
       "      <td>731.9400</td>\n",
       "      <td>3</td>\n",
       "      <td>0.00</td>\n",
       "      <td>219.5820</td>\n",
       "    </tr>\n",
       "    <tr>\n",
       "      <th>2</th>\n",
       "      <td>Second Class</td>\n",
       "      <td>Corporate</td>\n",
       "      <td>United States</td>\n",
       "      <td>Los Angeles</td>\n",
       "      <td>California</td>\n",
       "      <td>90036</td>\n",
       "      <td>West</td>\n",
       "      <td>Office Supplies</td>\n",
       "      <td>Labels</td>\n",
       "      <td>14.6200</td>\n",
       "      <td>2</td>\n",
       "      <td>0.00</td>\n",
       "      <td>6.8714</td>\n",
       "    </tr>\n",
       "    <tr>\n",
       "      <th>3</th>\n",
       "      <td>Standard Class</td>\n",
       "      <td>Consumer</td>\n",
       "      <td>United States</td>\n",
       "      <td>Fort Lauderdale</td>\n",
       "      <td>Florida</td>\n",
       "      <td>33311</td>\n",
       "      <td>South</td>\n",
       "      <td>Furniture</td>\n",
       "      <td>Tables</td>\n",
       "      <td>957.5775</td>\n",
       "      <td>5</td>\n",
       "      <td>0.45</td>\n",
       "      <td>-383.0310</td>\n",
       "    </tr>\n",
       "    <tr>\n",
       "      <th>4</th>\n",
       "      <td>Standard Class</td>\n",
       "      <td>Consumer</td>\n",
       "      <td>United States</td>\n",
       "      <td>Fort Lauderdale</td>\n",
       "      <td>Florida</td>\n",
       "      <td>33311</td>\n",
       "      <td>South</td>\n",
       "      <td>Office Supplies</td>\n",
       "      <td>Storage</td>\n",
       "      <td>22.3680</td>\n",
       "      <td>2</td>\n",
       "      <td>0.20</td>\n",
       "      <td>2.5164</td>\n",
       "    </tr>\n",
       "  </tbody>\n",
       "</table>\n",
       "</div>"
      ],
      "text/plain": [
       "        Ship Mode    Segment        Country             City       State  \\\n",
       "0    Second Class   Consumer  United States        Henderson    Kentucky   \n",
       "1    Second Class   Consumer  United States        Henderson    Kentucky   \n",
       "2    Second Class  Corporate  United States      Los Angeles  California   \n",
       "3  Standard Class   Consumer  United States  Fort Lauderdale     Florida   \n",
       "4  Standard Class   Consumer  United States  Fort Lauderdale     Florida   \n",
       "\n",
       "   Postal Code Region         Category Sub-Category     Sales  Quantity  \\\n",
       "0        42420  South        Furniture    Bookcases  261.9600         2   \n",
       "1        42420  South        Furniture       Chairs  731.9400         3   \n",
       "2        90036   West  Office Supplies       Labels   14.6200         2   \n",
       "3        33311  South        Furniture       Tables  957.5775         5   \n",
       "4        33311  South  Office Supplies      Storage   22.3680         2   \n",
       "\n",
       "   Discount    Profit  \n",
       "0      0.00   41.9136  \n",
       "1      0.00  219.5820  \n",
       "2      0.00    6.8714  \n",
       "3      0.45 -383.0310  \n",
       "4      0.20    2.5164  "
      ]
     },
     "execution_count": 11,
     "metadata": {},
     "output_type": "execute_result"
    }
   ],
   "source": [
    "df.head()"
   ]
  },
  {
   "cell_type": "markdown",
   "id": "83d1318b",
   "metadata": {
    "papermill": {
     "duration": 0.008259,
     "end_time": "2023-06-13T08:24:21.931356",
     "exception": false,
     "start_time": "2023-06-13T08:24:21.923097",
     "status": "completed"
    },
    "tags": []
   },
   "source": [
    "# 4.Exploratory Data Analysis"
   ]
  },
  {
   "cell_type": "markdown",
   "id": "440c08bb",
   "metadata": {
    "papermill": {
     "duration": 0.007745,
     "end_time": "2023-06-13T08:24:21.947120",
     "exception": false,
     "start_time": "2023-06-13T08:24:21.939375",
     "status": "completed"
    },
    "tags": []
   },
   "source": [
    "<div class='tableauPlaceholder' id='viz1686492443360' style='position: relative'><noscript><a href='#'><img alt='Sales Dashboard ' src='https:&#47;&#47;public.tableau.com&#47;static&#47;images&#47;Re&#47;RetailSuperstoreSalesDashboard&#47;SalesDashboard&#47;1_rss.png' style='border: none' /></a></noscript><object class='tableauViz'  style='display:none;'><param name='host_url' value='https%3A%2F%2Fpublic.tableau.com%2F' /> <param name='embed_code_version' value='3' /> <param name='site_root' value='' /><param name='name' value='RetailSuperstoreSalesDashboard&#47;SalesDashboard' /><param name='tabs' value='no' /><param name='toolbar' value='yes' /><param name='static_image' value='https:&#47;&#47;public.tableau.com&#47;static&#47;images&#47;Re&#47;RetailSuperstoreSalesDashboard&#47;SalesDashboard&#47;1.png' /> <param name='animate_transition' value='yes' /><param name='display_static_image' value='yes' /><param name='display_spinner' value='yes' /><param name='display_overlay' value='yes' /><param name='display_count' value='yes' /><param name='language' value='en-US' /></object></div>                <script type='text/javascript'>                    var divElement = document.getElementById('viz1686492443360');                    var vizElement = divElement.getElementsByTagName('object')[0];                    if ( divElement.offsetWidth > 800 ) { vizElement.style.width='1300px';vizElement.style.height='927px';} else if ( divElement.offsetWidth > 500 ) { vizElement.style.width='1300px';vizElement.style.height='927px';} else { vizElement.style.width='100%';vizElement.style.height='1877px';}                     var scriptElement = document.createElement('script');                    scriptElement.src = 'https://public.tableau.com/javascripts/api/viz_v1.js';                    vizElement.parentNode.insertBefore(scriptElement, vizElement);                </script>"
   ]
  },
  {
   "cell_type": "markdown",
   "id": "94618e4a",
   "metadata": {
    "papermill": {
     "duration": 0.007699,
     "end_time": "2023-06-13T08:24:21.963016",
     "exception": false,
     "start_time": "2023-06-13T08:24:21.955317",
     "status": "completed"
    },
    "tags": []
   },
   "source": [
    "# ***Tableau Dashboard***\n",
    "\n",
    "> Link:\"https://public.tableau.com/views/RetailSuperstoreSalesDashboard/SalesDashboard?:language=en-US&:display_count=n&:origin=viz_share_link\""
   ]
  },
  {
   "cell_type": "markdown",
   "id": "ffb81d28",
   "metadata": {
    "papermill": {
     "duration": 0.007642,
     "end_time": "2023-06-13T08:24:21.978664",
     "exception": false,
     "start_time": "2023-06-13T08:24:21.971022",
     "status": "completed"
    },
    "tags": []
   },
   "source": [
    "# **Overall Analysis:**\n",
    "\n",
    "\n",
    "± We see that more losses have been incurred by the Binders industry mainly in the Central region and Machines and Tables industry.\n",
    "\n",
    "\n",
    "± The main reason which leads to loss is Discount and in the future the percentage of discount offered should not be more than 25%, otherwise we will face loss.\n",
    "\n",
    "\n",
    "± It is better to give more discounts during festival seasons,  that will result in more sales.\n",
    "\n",
    "\n",
    "± Some cities have fewer sales, lack of awareness can be one of the reason for this, hence advertising in those cities might help in more sales.\n",
    "\n",
    "\n",
    "± More Sales have been occurred by the technology category and in that mostly have been from the West and East regions.\n",
    "\n",
    "\n",
    "± The furniture category incurs more losses than in the technology and Office Supplies category.\n",
    "\n",
    "\n",
    "# **Recommended Solutions/ Key Insights:**\n",
    "\n",
    "\n",
    "**The weak areas where one can work to make more profit are:**\n",
    "\n",
    "\n",
    "1.We should limit the sales of furniture and increase that of office supplies and technology as furniture is generating very less profit as compared to its sales.\n",
    "\n",
    "\n",
    "2.If Same day shipment receives more discounts it will trigger sales/profits.\n",
    "\n",
    "\n",
    "3.After the highest sales in California, we have high value of potential customers in Texas and New York so we should concentrate more on these states to generate more profit.\n",
    "\n",
    "\n",
    "4.We have highest purchases in consumer segment, but we should also concentrate on corporate and home office segments to increase our sales and profit.\n",
    "\n",
    "\n",
    " "
   ]
  }
 ],
 "metadata": {
  "kernelspec": {
   "display_name": "Python 3",
   "language": "python",
   "name": "python3"
  },
  "language_info": {
   "codemirror_mode": {
    "name": "ipython",
    "version": 3
   },
   "file_extension": ".py",
   "mimetype": "text/x-python",
   "name": "python",
   "nbconvert_exporter": "python",
   "pygments_lexer": "ipython3",
   "version": "3.10.10"
  },
  "papermill": {
   "default_parameters": {},
   "duration": 16.752699,
   "end_time": "2023-06-13T08:24:25.228690",
   "environment_variables": {},
   "exception": null,
   "input_path": "__notebook__.ipynb",
   "output_path": "__notebook__.ipynb",
   "parameters": {},
   "start_time": "2023-06-13T08:24:08.475991",
   "version": "2.4.0"
  }
 },
 "nbformat": 4,
 "nbformat_minor": 5
}
